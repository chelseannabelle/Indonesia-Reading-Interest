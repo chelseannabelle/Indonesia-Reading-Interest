{
  "nbformat": 4,
  "nbformat_minor": 0,
  "metadata": {
    "colab": {
      "provenance": [],
      "authorship_tag": "ABX9TyMxa9h0tAF3+huAFRG5rApV",
      "include_colab_link": true
    },
    "kernelspec": {
      "name": "python3",
      "display_name": "Python 3"
    },
    "language_info": {
      "name": "python"
    }
  },
  "cells": [
    {
      "cell_type": "markdown",
      "metadata": {
        "id": "view-in-github",
        "colab_type": "text"
      },
      "source": [
        "<a href=\"https://colab.research.google.com/github/chelseannabelle/Indonesia-Reading-Interest/blob/main/Indonesia_Reading_Interest.ipynb\" target=\"_parent\"><img src=\"https://colab.research.google.com/assets/colab-badge.svg\" alt=\"Open In Colab\"/></a>"
      ]
    },
    {
      "cell_type": "code",
      "execution_count": null,
      "metadata": {
        "id": "CFoX9AXjFAc4"
      },
      "outputs": [],
      "source": [
        "# --- Import Library ---\n",
        "import pandas as pd\n",
        "import matplotlib.pyplot as plt\n",
        "from scipy import stats\n",
        "\n",
        "# --- Load Dataset ---\n",
        "df = pd.read_csv(\"TGM 2020-2023_eng.csv\")\n",
        "print(\"Shape awal:\", df.shape)\n",
        "print(df.info())\n",
        "\n",
        "# --- Cek Missing Value ---\n",
        "print(\"\\nMissing values per kolom:\")\n",
        "print(df.isnull().sum())\n",
        "\n",
        "# --- Pilih kolom numerik untuk analisis ---\n",
        "num_cols = df.select_dtypes(include='number').columns\n",
        "print(\"\\nKolom numerik:\", num_cols.tolist())\n",
        "\n",
        "# --- Histogram sebelum outlier removal ---\n",
        "df[num_cols].hist(bins=30, figsize=(12, 8))\n",
        "plt.suptitle(\"Histogram Sebelum Outlier Removal\")\n",
        "plt.show()\n",
        "\n",
        "# --- Fungsi IQR untuk hapus outlier ---\n",
        "def remove_outliers_iqr(data, col):\n",
        "    Q1 = data[col].quantile(0.25)\n",
        "    Q3 = data[col].quantile(0.75)\n",
        "    IQR = Q3 - Q1\n",
        "    lower = Q1 - 1.5 * IQR\n",
        "    upper = Q3 + 1.5 * IQR\n",
        "    return data[(data[col] >= lower) & (data[col] <= upper)]\n",
        "\n",
        "# --- IQR Outlier Removal ---\n",
        "df_iqr = df.copy()\n",
        "for col in num_cols:\n",
        "    df_iqr = remove_outliers_iqr(df_iqr, col)\n",
        "\n",
        "print(\"Shape setelah IQR:\", df_iqr.shape)\n",
        "\n",
        "# --- Histogram setelah IQR ---\n",
        "df_iqr[num_cols].hist(bins=30, figsize=(12, 8))\n",
        "plt.suptitle(\"Histogram Sesudah Outlier Removal (IQR)\")\n",
        "plt.show()\n",
        "\n",
        "# --- Simpan hasil IQR ---\n",
        "df_iqr.to_csv(\"TGM_clean.csv\", index=False)\n",
        "\n",
        "# --- Z-score Outlier Removal ---\n",
        "df_z = df.copy()\n",
        "for col in num_cols:\n",
        "    z = stats.zscore(df_z[col])\n",
        "    df_z = df_z[(abs(z) < 3)]\n",
        "\n",
        "print(\"Shape setelah Z-score:\", df_z.shape)\n",
        "\n",
        "# --- Histogram setelah Z-score ---\n",
        "df_z[num_cols].hist(bins=30, figsize=(12, 8))\n",
        "plt.suptitle(\"Histogram Sesudah Outlier Removal (Z-score)\")\n",
        "plt.show()\n",
        "\n",
        "# --- Simpan hasil Z-score ---\n",
        "df_z.to_csv(\"TGM_clean_zscore.csv\", index=False)\n",
        "\n",
        "print(\"\\n--- Selesai! ---\")\n",
        "print(\"File hasil cleaning tersimpan sebagai:\")\n",
        "print(\"- TGM_clean.csv (IQR)\")\n",
        "print(\"- TGM_clean_zscore.csv (Z-score)\")\n"
      ]
    }
  ]
}